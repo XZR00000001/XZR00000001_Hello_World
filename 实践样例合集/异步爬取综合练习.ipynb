{
 "cells": [
  {
   "cell_type": "code",
   "execution_count": 6,
   "metadata": {},
   "outputs": [],
   "source": [
    "import requests\n",
    "from lxml import etree\n",
    "from multiprocessing.dummy import Pool #线程池. selenium\n",
    "import time"
   ]
  },
  {
   "cell_type": "code",
   "execution_count": 7,
   "metadata": {},
   "outputs": [],
   "source": [
    "headers = {\n",
    "    'User-Agent': 'Mozilla/5.0 (Windows NT 10.0; WOW64) AppleWebKit/537.36 (KHTML, like Gecko) Chrome/83.0.4103.97 Safari/537.36'\n",
    "}\n",
    "def get_request(url):\n",
    "    response = requests.get(url,headers=headers)\n",
    "    response.encoding = 'utf-8'\n",
    "    xpath_now = etree.HTML(response.text)\n",
    "    xpath_now2 = xpath_now.xpath('//div[@class=\"content\"]/span[1]')\n",
    "    xpath_out = []\n",
    "    for i in xpath_now2:\n",
    "        text1 = i.xpath(\"string(.)\").strip()\n",
    "        xpath_out.append(text1)\n",
    "    return xpath_out"
   ]
  },
  {
   "cell_type": "code",
   "execution_count": 13,
   "metadata": {},
   "outputs": [
    {
     "name": "stdout",
     "output_type": "stream",
     "text": [
      "请输入爬取页数：13\n",
      "异步获取所耗时间戳：2.7076704502105713\n"
     ]
    }
   ],
   "source": [
    "#使用普通循环爬取方式对比\n",
    "url = 'https://www.qiushibaike.com/text/page/%d/'\n",
    "urls = []\n",
    "num = int(input('请输入爬取页数：'))\n",
    "for i in range(1,num+1):\n",
    "    urls.append(format(url%i))\n",
    "#步骤：1.实例化线程池\n",
    "time_1 = time.time()\n",
    "response_text_list = list(map(get_request,urls)) #普通处理\n",
    "\"\"\"\n",
    "for i in range(num):\n",
    "    for j in range(len(response_text_list[i])):\n",
    "        print('  第{0}页-第{1}个趣事：{2}'.format(i+1,j+1,response_text_list[i][j]))\n",
    "\"\"\"\n",
    "time_2 = time.time()\n",
    "print(\"异步获取所耗时间戳：{}\".format(time_2-time_1))"
   ]
  },
  {
   "cell_type": "code",
   "execution_count": 15,
   "metadata": {},
   "outputs": [
    {
     "name": "stdout",
     "output_type": "stream",
     "text": [
      "请输入爬取页数：13\n",
      "异步获取所耗时间戳：0.37599945068359375\n"
     ]
    }
   ],
   "source": [
    "#基于线程池的异步爬取方法\n",
    "url = 'https://www.qiushibaike.com/text/page/%d/'\n",
    "urls = []\n",
    "num = int(input('请输入爬取页数：'))\n",
    "for i in range(1,num+1):\n",
    "    urls.append(format(url%i))\n",
    "    \n",
    "#实例化线程池\n",
    "pool = Pool(13)\n",
    "time_1 = time.time()\n",
    "response_text_list = pool.map(get_request,urls) #参数1是函数，参数2是可迭代对象. 异步处理\n",
    "\"\"\"\n",
    "for i in range(num):\n",
    "    for j in range(len(response_text_list[i])):\n",
    "        print('  第{0}页-第{1}个趣事：{2}'.format(i+1,j+1,response_text_list[i][j]))\n",
    "\"\"\"\n",
    "time_2 = time.time()\n",
    "print(\"异步获取所耗时间戳：{}\".format(time_2-time_1))"
   ]
  },
  {
   "cell_type": "code",
   "execution_count": 10,
   "metadata": {},
   "outputs": [
    {
     "name": "stdout",
     "output_type": "stream",
     "text": [
      "正在请求： http://localhost:5000/bobo\n",
      "正在请求： http://localhost:5000/jay\n",
      "正在请求： http://localhost:5000/tom\n",
      "请求结束： http://localhost:5000/bobo\n",
      "请求结束： http://localhost:5000/jay\n",
      "请求结束： http://localhost:5000/tom\n",
      "callback —— now\n",
      "hello ~ http://localhost:5000/bobo\n",
      "callback —— now\n",
      "hello ~ http://localhost:5000/jay\n",
      "callback —— now\n",
      "hello ~ http://localhost:5000/tom\n",
      "2.0040602684020996\n"
     ]
    }
   ],
   "source": [
    "#使用协程解决（单线程+多任务异步协程）\n",
    "#协程： 可以把协程当作一个特别的函数，如果一个函数的定义被async所修饰,就不会立即执行，而是返回协程对象\n",
    "from time import sleep\n",
    "import nest_asyncio  #针对jupyternotebook错误情况~\n",
    "import asyncio\n",
    "import time\n",
    "nest_asyncio.apply()\n",
    "\n",
    "urls = [\n",
    "    'http://localhost:5000/bobo',\n",
    "    'http://localhost:5000/jay',\n",
    "    'http://localhost:5000/tom'\n",
    "]\n",
    "\n",
    "#回调函数\n",
    "def callback1(task):\n",
    "    print('callback —— now')\n",
    "    print(task.result())\n",
    "\n",
    "#待执行函数中不可以使用不支持异步模块的代码\n",
    "async def get_requests1(url):\n",
    "    print('正在请求：',url)\n",
    "    await asyncio.sleep(2) #必须要用await 执行阻塞操作。\n",
    "    print('请求结束：',url)\n",
    "    return ('hello ~ ' + url)\n",
    "\n",
    "tasks = [] #用于放封装了的任务对象\n",
    "\n",
    "for i in urls:\n",
    "    c = get_requests1(i) #接收协程对象\n",
    "\n",
    "    #任务对象(task)： 对协程对象作进一步的封装！ 比如显示协程运行情况\n",
    "    task = asyncio.ensure_future(c)\n",
    "    task.add_done_callback(callback1) #绑定回调函数\n",
    "    tasks.append(task)\n",
    "\n",
    "#注册到事件循环对象中,事件循环对象中可以放很多任务对象去执行。 异步体现在开始时是顺序执行任务对象，而一个任务事件发生阻塞不会等待，而是继续执行\n",
    "#下一个对象\n",
    "time1 = time.time()\n",
    "loop = asyncio.get_event_loop()\n",
    "loop.run_until_complete(asyncio.wait(tasks)) #每一个任务对象，进行挂起操作。在阻塞时就自动挂起\n",
    "time2 = time.time()\n",
    "print(time2-time1)\n",
    "\n",
    "\n"
   ]
  },
  {
   "cell_type": "code",
   "execution_count": null,
   "metadata": {},
   "outputs": [],
   "source": []
  }
 ],
 "metadata": {
  "kernelspec": {
   "display_name": "Python 3",
   "language": "python",
   "name": "python3"
  },
  "language_info": {
   "codemirror_mode": {
    "name": "ipython",
    "version": 3
   },
   "file_extension": ".py",
   "mimetype": "text/x-python",
   "name": "python",
   "nbconvert_exporter": "python",
   "pygments_lexer": "ipython3",
   "version": "3.6.6"
  }
 },
 "nbformat": 4,
 "nbformat_minor": 4
}
