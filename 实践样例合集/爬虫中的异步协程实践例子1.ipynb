{
 "cells": [
  {
   "cell_type": "code",
   "execution_count": 10,
   "metadata": {},
   "outputs": [
    {
     "name": "stdout",
     "output_type": "stream",
     "text": [
      "请输入爬取页数：13\n",
      "0.31709718704223633\n"
     ]
    }
   ],
   "source": [
    "#使用协程解决（单线程+多任务异步协程）\n",
    "#协程： 可以把协程当作一个特别的函数，如果一个函数的定义被async所修饰,就不会立即执行，而是返回协程对象\n",
    "#由于requests当中的代码不可以出现在特殊函数内部，requests不支持异步操作。所以要引入aiohttp\n",
    "import requests\n",
    "from lxml import etree\n",
    "import nest_asyncio  #针对jupyternotebook错误情况~\n",
    "import asyncio\n",
    "import time\n",
    "import aiohttp\n",
    "nest_asyncio.apply()\n",
    "\n",
    "\n",
    "\n",
    "#待执行函数中不可以使用不支持异步模块的代码.在每一个with前加async  在每一个阻塞操作上加await\n",
    "async def get_requests1(url,headers):\n",
    "    #必须用with as结构声明\n",
    "    async with aiohttp.ClientSession() as s:\n",
    "        async with await s.get(url=url,headers=headers) as response:\n",
    "            response.encoding = 'utf-8'\n",
    "            #response.read()  是bytes\n",
    "            page_text = await response.text()\n",
    "            return [page_text,url[-2]]\n",
    "\n",
    "#回调函数\n",
    "def callback1(task):\n",
    "    result = task.result()[0]\n",
    "    page_num = task.result()[1]\n",
    "    tree = etree.HTML(result)\n",
    "    data = tree.xpath('//div[@class=\"content\"]/span[1]')\n",
    "    xpath_out = []\n",
    "    for i in data:\n",
    "        text1 = i.xpath(\"string(.)\").strip()\n",
    "        xpath_out.append(text1)\n",
    "    \n",
    "\n",
    "if __name__ == '__main__':\n",
    "    \n",
    "    url = 'https://www.qiushibaike.com/text/page/%d/'\n",
    "    urls = []\n",
    "    num = int(input('请输入爬取页数：'))\n",
    "    for i in range(1,num+1):\n",
    "        urls.append(format(url%i))\n",
    "    \n",
    "    tasks = [] #用于放封装了的任务对象\n",
    "\n",
    "    headers = {\n",
    "        'User-Agent': 'Mozilla/5.0 (Windows NT 10.0; WOW64) AppleWebKit/537.36 (KHTML, like Gecko) Chrome/83.0.4103.97 Safari/537.36'\n",
    "    }\n",
    "\n",
    "    for i in urls:\n",
    "        c = get_requests1(i,headers) #接收协程对象\n",
    "\n",
    "        #任务对象(task)： 对协程对象作进一步的封装！ 比如显示协程运行情况\n",
    "        task = asyncio.ensure_future(c)\n",
    "        task.add_done_callback(callback1) #绑定回调函数\n",
    "        tasks.append(task)\n",
    "\n",
    "    #注册到事件循环对象中,事件循环对象中可以放很多任务对象去执行。 异步体现在开始时是顺序执行任务对象，而一个任务事件发生阻塞不会等待，而是继续执行\n",
    "    #下一个对象\n",
    "    time1 = time.time()\n",
    "    loop = asyncio.get_event_loop()\n",
    "    loop.run_until_complete(asyncio.wait(tasks)) #每一个任务对象，进行挂起操作。在阻塞时就自动挂起\n",
    "    time2 = time.time()\n",
    "    print(time2-time1)\n",
    "\n",
    "\n"
   ]
  },
  {
   "cell_type": "code",
   "execution_count": null,
   "metadata": {},
   "outputs": [],
   "source": []
  },
  {
   "cell_type": "code",
   "execution_count": null,
   "metadata": {},
   "outputs": [],
   "source": []
  }
 ],
 "metadata": {
  "kernelspec": {
   "display_name": "Python 3",
   "language": "python",
   "name": "python3"
  },
  "language_info": {
   "codemirror_mode": {
    "name": "ipython",
    "version": 3
   },
   "file_extension": ".py",
   "mimetype": "text/x-python",
   "name": "python",
   "nbconvert_exporter": "python",
   "pygments_lexer": "ipython3",
   "version": "3.6.6"
  }
 },
 "nbformat": 4,
 "nbformat_minor": 4
}
