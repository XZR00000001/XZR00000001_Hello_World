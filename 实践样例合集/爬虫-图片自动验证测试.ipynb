{
 "cells": [
  {
   "cell_type": "code",
   "execution_count": 16,
   "metadata": {},
   "outputs": [],
   "source": [
    "from set_sum.chaojiying import *\n",
    "from lxml import etree"
   ]
  },
  {
   "cell_type": "code",
   "execution_count": 21,
   "metadata": {},
   "outputs": [
    {
     "name": "stdout",
     "output_type": "stream",
     "text": [
      "vizn\n"
     ]
    }
   ],
   "source": [
    "#测试爬虫自动识别验证码并登录再爬取信息. 为了爬取需要登录才显示的数据！！！\n",
    "\n",
    "\n",
    "\n",
    "headers={\n",
    "    'User-Agent': 'Mozilla/5.0 (Windows NT 10.0; WOW64) AppleWebKit/537.36 (KHTML, like Gecko) Chrome/83.0.4103.97 Safari/537.36'\n",
    "}\n",
    "\n",
    "params={\n",
    "    \n",
    "}\n",
    "\n",
    "proxies={\n",
    "    'http':'113.140.188.66:4256',\n",
    "    'http':'222.90.41.210:4275'\n",
    "}\n",
    "\n",
    "#看看情况，先检测cookie,找cookie的请求地址也不好找啊~~\n",
    "s = requests.Session()\n",
    "first_url = 'https://so.gushiwen.cn/user/login.aspx?from=http://so.gushiwen.cn/user/collect.aspx' \n",
    "s.get(first_url,headers=headers)\n",
    "\n",
    "#获取好cookie后，再发送请求\n",
    "url = 'https://so.gushiwen.cn/user/login.aspx?from=http://so.gushiwen.cn/user/collect.aspx'\n",
    "response = requests.get(url=url,headers=headers)\n",
    "\n",
    "#解析需要的数据\n",
    "tree = etree.HTML(response.text)\n",
    "img_n = 'https://so.gushiwen.cn/' + tree.xpath('//*[@id=\"imgCode\"]/@src')[0] #获取图片请求地址\n",
    "\n",
    "view_state = tree.xpath('//*[@id=\"__VIEWSTATE\"]/@value')[0]                  #动态参数1\n",
    "view_generator = tree.xpath('//*[@id=\"__VIEWSTATEGENERATOR\"]/@value')[0]     #动态参数2\n",
    "\n",
    "#保存图片\n",
    "code_data = s.get(url=img_n,headers=headers).content\n",
    "with open('./img_data.jpg','wb') as f:\n",
    "    f.write(code_data)\n",
    "\n",
    "#调用程序来解析图片\n",
    "chaojiying = Chaojiying_Client('注册的用户名', '注册的密码', '')#用户中心>>软件ID 生成一个替换 96001\n",
    "im = open('img_data.jpg', 'rb').read()                           #本地图片文件路径 来替换 a.jpg 有时WIN系统须要//\n",
    "img_num = chaojiying.PostPic(im, 1902)['pic_str'] #1902是验证码的类型 1902 验证码类型\n",
    "print(img_num)\n",
    "\n",
    "#模拟登录，其中的__Viewstate类似的是动态请求参数,可以先看看页面中搜索下，看是否是隐藏的\n",
    "data={\n",
    "    '__VIEWSTATE': view_state,\n",
    "    '__VIEWSTATEGENERATOR': view_generator,\n",
    "    'from': 'http://so.gushiwen.cn/user/collect.aspx',\n",
    "    'email': '古诗网注册的用户名',\n",
    "    'pwd': '古诗网注册的密码',\n",
    "    'code': img_num,\n",
    "    'denglu': '登录'\n",
    "}\n",
    "\n",
    "login_url = 'https://so.gushiwen.cn/user/login.aspx?from=http%3a%2f%2fso.gushiwen.cn%2fuser%2fcollect.aspx'\n",
    "main_page = s.post(url=login_url,headers=headers,data=data)\n",
    "\n",
    "with open('古诗文用户主页.html','w',encoding='utf-8') as f:\n",
    "    f.write(main_page.text)"
   ]
  },
  {
   "cell_type": "code",
   "execution_count": null,
   "metadata": {},
   "outputs": [],
   "source": []
  }
 ],
 "metadata": {
  "kernelspec": {
   "display_name": "Python 3",
   "language": "python",
   "name": "python3"
  },
  "language_info": {
   "codemirror_mode": {
    "name": "ipython",
    "version": 3
   },
   "file_extension": ".py",
   "mimetype": "text/x-python",
   "name": "python",
   "nbconvert_exporter": "python",
   "pygments_lexer": "ipython3",
   "version": "3.6.6"
  }
 },
 "nbformat": 4,
 "nbformat_minor": 4
}
