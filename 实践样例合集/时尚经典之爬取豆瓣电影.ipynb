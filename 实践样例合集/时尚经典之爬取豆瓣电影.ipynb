{
 "cells": [
  {
   "cell_type": "code",
   "execution_count": 1,
   "metadata": {},
   "outputs": [],
   "source": [
    "import requests"
   ]
  },
  {
   "cell_type": "code",
   "execution_count": null,
   "metadata": {},
   "outputs": [],
   "source": [
    "#随便爬个排行榜\n",
    "#豆瓣排行榜的获取的基础列表list为 //div[@class=\"article\"]/div//table。  然后用for循环继续xpath提取里面信息。\n",
    "# //div[@class=\"article\"]/div//table[1]//a/text() 类型1\n",
    "# //div[@class=\"article\"]/div//table[1]//a/span/text() 类型2\n",
    "# //div[@class=\"article\"]/div//table[1]//p/text() 简介\n",
    "# //div[@class=\"article\"]/div//table[1]//span[2]/text() 评分\n",
    "# //div[@class=\"article\"]/div//table[1]//span[3]/text() 评价人数\n",
    "# //div[@class=\"article\"]/div//table[1]//img/@src 图片地址\n",
    "\n",
    "# 对于通过浏览器的触碰，滑动滚动条等响应操作之后才显示的数据是由ajax动态/JS动态请求来的动态加载数据，要获取到的话就要先找出请求\n",
    "#ajax返回的content-type 一般来说是json/xml 类型不能直接取。\n",
    "\n",
    "url = 'https://www.sogou.com/web?query='\n",
    "params = {\n",
    "    '耗子尾汁':'小伙子，你不讲武德，来骗，来偷袭我69岁的老同志，这好吗？ 这不好。 快来B站看我的最新特效开开眼界，劝你三连啊。',\n",
    "    '增幅亡':'小伙子，你有梦想吗？年轻人就应该勇敢直前，这首放手一搏 (DJ男嗓版) 是我多年珍藏，待你想好了之后，告诉我，我肯定是给你上的是挺挺的昂！'\n",
    "    \n",
    "}\n",
    "headers = {\n",
    "    'User-Agent':'Mozilla/5.0 (Windows NT 10.0; WOW64) AppleWebKit/537.36 (KHTML, like Gecko) Chrome/83.0.4103.97 Safari/537.36'\n",
    "}\n",
    "response = requests.get(url=url,params=params,headers=headers)\n",
    "response.encoding = 'utf-8'"
   ]
  }
 ],
 "metadata": {
  "kernelspec": {
   "display_name": "Python 3",
   "language": "python",
   "name": "python3"
  },
  "language_info": {
   "codemirror_mode": {
    "name": "ipython",
    "version": 3
   },
   "file_extension": ".py",
   "mimetype": "text/x-python",
   "name": "python",
   "nbconvert_exporter": "python",
   "pygments_lexer": "ipython3",
   "version": "3.6.6"
  }
 },
 "nbformat": 4,
 "nbformat_minor": 4
}
