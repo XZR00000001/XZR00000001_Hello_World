{
 "cells": [
  {
   "cell_type": "code",
   "execution_count": 1,
   "metadata": {},
   "outputs": [],
   "source": [
    "import requests\n",
    "from lxml import etree\n",
    "import time\n",
    "from pyecharts.charts import Bar, Pie, Grid\n",
    "from pyecharts import options as opts\n",
    "# 内置主题类型可查看 pyecharts.globals.ThemeType\n",
    "from pyecharts.globals import ThemeType\n",
    "import pandas as pd\n",
    "import numpy as np"
   ]
  },
  {
   "cell_type": "code",
   "execution_count": 3,
   "metadata": {},
   "outputs": [
    {
     "name": "stdout",
     "output_type": "stream",
     "text": [
      "请问要爬取前几页评论?: 5\n"
     ]
    },
    {
     "data": {
      "text/plain": [
       "\"\\n输出排序的函数= =  list\\ncomment_best = {}\\nfor i in comment_set:\\n    comment_best[i[1]]=comment_best.get(i[1],0)+1\\ncomment_best = sorted(comment_best.items(),key=lambda x:x[1],reverse=True)\\n\\nfor i in range(len(comment_best)):\\n    print( (str(i+1)) + ': ' + ' '.join(map(str,comment_best[i])))\\n            comment_set['电影名称'].append(movie_name)\\n        comment_set['评论数'].append(time1)\\n\""
      ]
     },
     "execution_count": 3,
     "metadata": {},
     "output_type": "execute_result"
    }
   ],
   "source": [
    "#豆瓣电影评论爬取(10页)\n",
    "#https://movie.douban.com/review/best/?start=0  通过start=0参数搞\n",
    "save_name = '豆瓣评论'\n",
    "\n",
    "url = 'https://movie.douban.com/review/best/?start='\n",
    "params = { \n",
    "    'start':'0'\n",
    "}\n",
    "headers = {\n",
    "    'User-Agent':'Mozilla/5.0 (Windows NT 10.0; WOW64) AppleWebKit/537.36 (KHTML, like Gecko) Chrome/83.0.4103.97 Safari/537.36'\n",
    "}\n",
    "page_get = int(input('请问要爬取前几页评论?: '))\n",
    "comment_set = {'电影名称':[],'评论数':{}}\n",
    "\n",
    "#xpath中取文本  /text() 取直系的文本内容   //text()取其下所有文本内容。\n",
    "#取属性用  /@属性\n",
    "\n",
    "for i in range(page_get):\n",
    "    page_now = str(i*20)\n",
    "    params['start']=page_now\n",
    "    response = requests.get(url=url+page_now,params=params,headers=headers)\n",
    "    response.encoding = 'utf-8'\n",
    "    xpath_go = etree.HTML(response.text)  #etree.parse()\n",
    "    data_set = xpath_go.xpath(\"//div[@class='main review-item']\") #索引语句中的下标是从1开始的\n",
    "    #print('第'+str(i+1)+'页评论情况： ')输出情况\n",
    "    for j in data_set:\n",
    "        name1 = j.xpath(\".//a[@class='name']/text()\")[0]\n",
    "        movie_name = j.xpath('.//img[@rel=\"v:image\"]/@title')[0]\n",
    "        time1 = j.xpath('.//span[@class=\"main-meta\"]/text()')[0]\n",
    "        #short_content1 = j.xpath(\".//div[@class='short-content']/text()\")[0].strip() 获取短评\n",
    "        comment_set['电影名称'].append(movie_name)\n",
    "        comment_set['评论数'][movie_name] = comment_set['评论数'].get(movie_name,0) + 1\n",
    "        #print(comment_set[-1])  输出情况\n",
    "        \n",
    "comment_set['电影名称']=list(set(comment_set['电影名称']))   #去重X变量\n",
    "comment_set['评论数'] = list(comment_set['评论数'].values()) #获取统计好的Y变量\n",
    "\n",
    "    \n",
    "datafile = pd.DataFrame(comment_set)\n",
    "timenow = time.strftime('%Y-%m-%d',time.localtime(time.time()))\n",
    "datafile.to_csv('E:/豆瓣数据收集/评论收集/表格/' + save_name + \"_\"+timenow+\".csv\",index=False,encoding='utf-8_sig')\n",
    "datafile.to_excel('E:/豆瓣数据收集/评论收集/表格/' + save_name + \"_\" + timenow + \".xlsx\", index=False, encoding='utf-8_sig')\n",
    "#,label_opts=opts.LabelOpts(formatter=('{c}万'),is_show=True)   formatter格式化. 放到add_xaxis里面用\n",
    "bar = (\n",
    "            Bar()\n",
    "                .add_xaxis(comment_set['电影名称'])\n",
    "                .add_yaxis(\"评论数\", comment_set['评论数'])\n",
    "                .set_global_opts(\n",
    "                    title_opts=opts.TitleOpts(title=(save_name+\"统计\"),subtitle=timenow),\n",
    "                    datazoom_opts=[opts.DataZoomOpts(range_start=0,range_end=5,pos_bottom=\"0%\")],\n",
    "                    toolbox_opts=opts.ToolboxOpts(is_show=True),\n",
    "                    xaxis_opts=opts.AxisOpts(name=\"电影名称\",is_show=False,),\n",
    "                    tooltip_opts=opts.TooltipOpts(is_show=True,trigger=\"axis\",axis_pointer_type=\"shadow\")\n",
    "            )\n",
    "        )\n",
    "bar.render(\"E:/豆瓣数据收集/评论收集/数据图/\"+ save_name +\"数据图\"+timenow+\".html\")\n",
    "\"\"\"\n",
    "输出排序的函数= =  list\n",
    "comment_best = {}\n",
    "for i in comment_set:\n",
    "    comment_best[i[1]]=comment_best.get(i[1],0)+1\n",
    "comment_best = sorted(comment_best.items(),key=lambda x:x[1],reverse=True)\n",
    "\n",
    "for i in range(len(comment_best)):\n",
    "    print( (str(i+1)) + ': ' + ' '.join(map(str,comment_best[i])))\n",
    "            comment_set['电影名称'].append(movie_name)\n",
    "        comment_set['评论数'].append(time1)\n",
    "\"\"\"\n",
    "\n",
    "\n",
    "    "
   ]
  },
  {
   "cell_type": "code",
   "execution_count": null,
   "metadata": {},
   "outputs": [],
   "source": []
  }
 ],
 "metadata": {
  "kernelspec": {
   "display_name": "Python 3",
   "language": "python",
   "name": "python3"
  },
  "language_info": {
   "codemirror_mode": {
    "name": "ipython",
    "version": 3
   },
   "file_extension": ".py",
   "mimetype": "text/x-python",
   "name": "python",
   "nbconvert_exporter": "python",
   "pygments_lexer": "ipython3",
   "version": "3.6.6"
  }
 },
 "nbformat": 4,
 "nbformat_minor": 4
}
