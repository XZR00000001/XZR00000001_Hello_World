{
 "cells": [
  {
   "cell_type": "code",
   "execution_count": 1,
   "metadata": {},
   "outputs": [],
   "source": [
    "import requests"
   ]
  },
  {
   "cell_type": "code",
   "execution_count": 12,
   "metadata": {},
   "outputs": [
    {
     "name": "stdout",
     "output_type": "stream",
     "text": [
      "['【warma】沃玛的新番更新！从现在开始放飞自我【沃玛的生活/第三期】', '“你有多久没在12点前睡觉了？”', '派大星：在吗生活？来过两招', '前方高燃！给我15秒  让你感受奥特曼的视觉盛宴!!', '干饭人之魂！', '【像素原神】可莉的炸弹人秘境冒险', '【真人崩坏3】大力士与幽兰黛尔的史诗级超燃对决！', '前方惊艳无限！十年后你还会记得这些动漫吗？', '【方舟剧场】干员报道记录：①我的“兄弟”不可能是坏女人②射击训练', '她们居然趁我睡午觉偷❤袭，我大意了啊，没有闪...啪的一下，很快啊！', '“你遇见属于你自己的史迪仔了吗……”'] 11\n"
     ]
    }
   ],
   "source": [
    "#获取动态加载的数据，爬取一个网站前先要划分静态返回的和动态加载的\n",
    "#刚开始对于动态加载的数据可以先找出一个同项，分析其中的数据是如何请求来的，并将此应用在其他同类数据项上（通过浏览器F12的Search查询好先）\n",
    "#找到其请求参数之后即可模拟浏览器获取了。\n",
    "#B站动画区一模块  https://api.bilibili.com/x/web-interface/dynamic/region?ps=12&rid=1\n",
    "#免费漫画推荐  https://manga.bilibili.com/twirp/comic.v1.Comic/HomeHot\n",
    "#人气漫画 ttps://manga.bilibili.com/twirp/comic.v1.Comic/GetRecommendComics  \n",
    "#人气漫画参数\n",
    "\"\"\"\n",
    "网址 https://manga.bilibili.com/twirp/comic.v1.Comic/GetRecommendComics\n",
    "'page_num': '3'  点击换一换的时候不是随机出的，而是page_num + 1 再发请求而已\n",
    "'page_size': '12'  \n",
    "'type': '2'\n",
    "\"\"\"\n",
    "#如何判断网页中是否有动态加载的数据呢？\n",
    "\n",
    "url = 'https://api.bilibili.com/x/web-interface/ranking/region?rid=1&day=3&original=0'\n",
    "params = {\n",
    "    'rid': '1',\n",
    "    'day': '3',\n",
    "    'original': '0'\n",
    "}\n",
    "headers = {\n",
    "    'User-Agent':'Mozilla/5.0 (Windows NT 10.0; WOW64) AppleWebKit/537.36 (KHTML, like Gecko) Chrome/83.0.4103.97 Safari/537.36'\n",
    "}\n",
    "response = requests.get(url=url,params=params,headers=headers)\n",
    "response.encoding = 'utf-8'\n",
    "\n",
    "datalist = response.json()\n",
    "dataset = datalist['data']\n",
    "name = []\n",
    "for i in dataset:\n",
    "    name.append(i['title'])\n",
    "\n",
    "    "
   ]
  },
  {
   "cell_type": "code",
   "execution_count": null,
   "metadata": {},
   "outputs": [],
   "source": []
  }
 ],
 "metadata": {
  "kernelspec": {
   "display_name": "Python 3",
   "language": "python",
   "name": "python3"
  },
  "language_info": {
   "codemirror_mode": {
    "name": "ipython",
    "version": 3
   },
   "file_extension": ".py",
   "mimetype": "text/x-python",
   "name": "python",
   "nbconvert_exporter": "python",
   "pygments_lexer": "ipython3",
   "version": "3.6.6"
  }
 },
 "nbformat": 4,
 "nbformat_minor": 4
}
