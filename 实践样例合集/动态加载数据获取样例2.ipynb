{
 "cells": [
  {
   "cell_type": "code",
   "execution_count": 4,
   "metadata": {},
   "outputs": [],
   "source": [
    "import requests\n",
    "import re\n",
    "from lxml import etree\n",
    "import time\n",
    "from pyecharts.charts import Bar, Pie, Grid\n",
    "from pyecharts import options as opts\n",
    "# 内置主题类型可查看 pyecharts.globals.ThemeType\n",
    "from pyecharts.globals import ThemeType\n",
    "import pandas as pd\n",
    "import numpy as np\n",
    "from requests.adapters import HTTPAdapter"
   ]
  },
  {
   "cell_type": "code",
   "execution_count": 7,
   "metadata": {},
   "outputs": [],
   "source": [
    "#动态加载获取练习2  对于需要人工操作才更新的数据进行获取\n",
    "#测试ID zmhttp523471\n",
    "#如果只是统计数据 用xpath即可， 如果要把信息和布局都获取就需要bs4了\n",
    "\n",
    "url = 'http://www.baidu.com/s?wd=ip'\n",
    "params = {\n",
    "    'wd':'ip'\n",
    "}\n",
    "headers = {\n",
    "    'User-Agent':'Mozilla/5.0 (Windows NT 10.0; WOW64) AppleWebKit/537.36 (KHTML, like Gecko) Chrome/83.0.4103.97 Safari/537.36',\n",
    "}\n",
    "\n",
    "proxies={\n",
    "    'http':'http://182.34.21.72:4234',\n",
    "    \n",
    "}#添加代理 某些情况下需要代理。 只能每天用下芝麻免费代理  ，嘤嘤嘤~\n",
    "\"\"\"\n",
    "代理匿名度：\n",
    "         透明：服务器知道你使用了代理，知道你的真实IP\n",
    "         匿名：服务器知道你使用了代理，不知道你的真实IP\n",
    "         高匿：服务器不知道你使用了代理，更不知道你使用的真实IP\n",
    "\n",
    "代理类型：\n",
    "            http:该类型的代理只可以转发http的请求\n",
    "            https:该类型的代理只可以转发https的请求\n",
    "\"\"\"\n",
    "\n",
    "s = requests.session()\n",
    "# 设置session属性\n",
    "\n",
    "\n",
    "# max_retries=3 重试3次\n",
    "s.mount('http://', HTTPAdapter(max_retries=3))\n",
    "s.mount('https://', HTTPAdapter(max_retries=3))\n",
    "\n",
    "response = requests.get(url=url,headers=headers,proxies=proxies,timeout=15)\n",
    "response.encoding = 'utf-8'\n",
    "with open('ip2.html','w',encoding='utf-8') as f:\n",
    "    f.write(response.text)"
   ]
  },
  {
   "cell_type": "code",
   "execution_count": null,
   "metadata": {},
   "outputs": [],
   "source": []
  }
 ],
 "metadata": {
  "kernelspec": {
   "display_name": "Python 3",
   "language": "python",
   "name": "python3"
  },
  "language_info": {
   "codemirror_mode": {
    "name": "ipython",
    "version": 3
   },
   "file_extension": ".py",
   "mimetype": "text/x-python",
   "name": "python",
   "nbconvert_exporter": "python",
   "pygments_lexer": "ipython3",
   "version": "3.6.6"
  }
 },
 "nbformat": 4,
 "nbformat_minor": 4
}
