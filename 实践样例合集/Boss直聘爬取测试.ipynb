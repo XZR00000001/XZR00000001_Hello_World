{
 "cells": [
  {
   "cell_type": "code",
   "execution_count": 25,
   "metadata": {},
   "outputs": [],
   "source": [
    "import requests\n",
    "import re\n",
    "from lxml import etree\n",
    "import time\n",
    "from pyecharts.charts import Bar, Pie, Grid\n",
    "from pyecharts import options as opts\n",
    "# 内置主题类型可查看 pyecharts.globals.ThemeType\n",
    "from pyecharts.globals import ThemeType\n",
    "import pandas as pd\n",
    "import numpy as np"
   ]
  },
  {
   "cell_type": "code",
   "execution_count": 29,
   "metadata": {},
   "outputs": [
    {
     "name": "stdout",
     "output_type": "stream",
     "text": [
      "已经爬取完毕\n"
     ]
    }
   ],
   "source": [
    "#BOSS直聘(前端岗位爬取)(10页)\n",
    "#https://movie.douban.com/review/best/?start=0  通过start=0参数搞\n",
    "#页面上提取的时候大多数是文字型描述，比如3-5年  要提取数字并统计的话要使用re\n",
    "#存储参数\n",
    "save_path = 'E:/BOSS直聘爬取/' #大路径\n",
    "save_name = 'BOSS直聘(前端岗位爬取)' #项目名\n",
    "save_folder = ['数据表','数据图'] #选择存储的目录类型表\n",
    "\n",
    "#爬虫控制参数\n",
    "delay_num = 1  #延迟爬取间隔时间\n",
    "\n",
    "#结束语\n",
    "end_said = '已经爬取完毕'\n",
    "\n",
    "url = 'https://www.zhipin.com/c100010000/?query=web%E5%89%8D%E7%AB%AF&page=1&ka=page-1'\n",
    "params = { \n",
    "    'query': 'web前端',\n",
    "    'page': '1',\n",
    "    'ka': 'page-1',\n",
    "}\n",
    "headers = {\n",
    "    'User-Agent':'Mozilla/5.0 (Windows NT 10.0; WOW64) AppleWebKit/537.36 (KHTML, like Gecko) Chrome/83.0.4103.97 Safari/537.36',\n",
    "    'cookie': 'id=sem_pz_bdpc_dasou_title; __g=sem_pz_bdpc_dasou_title; Hm_lvt_194df3105ad7148dcf2b98a91b5e727a=1606211324; lastCity=100010000; __fid=aee539a4b29b16d74147e7b56ce106fd; __l=l=%2Fwww.zhipin.com%2Fc100010000%2F%3Fquery%3Dweb%25E5%2589%258D%25E7%25AB%25AF%26page%3D1%26ka%3Dpage-1&r=https%3A%2F%2Fwww.baidu.com%2Fother.php%3Fsc.a00000K5L13vztlb3a7W-KT5C3N7sg_jI8T0vU7EBcIHoY05YblIurZP9e8h44LnauE2Z6BvImWgeIKYb0qGimPlSYHOL_1tWSN9kPpbxwwYCnaq1tnKzfZnobTE1_5foWgK7P17Dz4HYwaNRp8D3fBi1kQ2uk9Ova9Xqwi01116sbOHlIqZ1bQUre3T-CUrKp_CHL6xGaACy-zq4yXgLXgNFu_D.7D_NR2Ar5Od663rj6t8AGSPticrtXFBPrM-kt5QxIW94UhmLmry6S9wiGyAp7BEIu80.TLFWgv-b5HDkrfK1ThPGujYknHb0THY0IAYqmhq1TzPaHD7riz5y_Tp30ZN1ugFxIZ-suHYs0A7bgLw4TARqnsKLULFb5yFETL5y_Tp30ZFWIWYk0ZNzU7qGujYkPHD4Pj01PjD10Addgv-b5HDzP1mLP10s0AdxpyfqnH0vrjTsPWR0UgwsU7qGujYknHR1P0KsI-qGujYs0A-bm1dcHbc0mLFW5HndP1TL%26ck%3D1880.1.70.382.153.386.160.68%26dt%3D1606211283%26wd%3Dboss%2B%25E7%259B%25B4%25E8%2581%2598%26tpl%3Dtpl_11534_22836_18980%26l%3D1519403413%26us%3DlinkName%253D%2525E6%2525A0%252587%2525E5%252587%252586%2525E5%2525A4%2525B4%2525E9%252583%2525A8-%2525E4%2525B8%2525BB%2525E6%2525A0%252587%2525E9%2525A2%252598%2526linkText%253DBOSS%2525E7%25259B%2525B4%2525E8%252581%252598%2525E2%252580%252594%2525E2%252580%252594%2525E6%252589%2525BE%2525E5%2525B7%2525A5%2525E4%2525BD%25259C%2525EF%2525BC%25258C%2525E6%252588%252591%2525E8%2525A6%252581%2525E8%2525B7%25259F%2525E8%252580%252581%2525E6%25259D%2525BF%2525E8%2525B0%252588%2525EF%2525BC%252581%2526linkType%253D&g=%2Fwww.zhipin.com%2F%3Fsid%3Dsem_pz_bdpc_dasou_title&s=3&friend_source=0&s=3&friend_source=0; __c=1606211324; __a=69705857.1606211324..1606211324.22.1.22.22; Hm_lpvt_194df3105ad7148dcf2b98a91b5e727a=1606228354; __zp_stoken__=8d36bZ39zFkJSUkY%2FaykGFHYUeiVKXmxDfg59awlMFGdpb2xxHy8dQ3BaTTlYbmdWPEx%2BCnRQcRxVV19fFkV%2BA3EJM2NQfDpARx0NQ1RFOA4cFA5HMGgtICscEmV9R2FjOh10GUZWDGd2dGA8DQ%3D%3D'}\n",
    "\n",
    "\"\"\"\n",
    "proxies={\n",
    "    'https':'123.163.121.119:9999'\n",
    "    \n",
    "}#添加代理 某些情况下需要代理\n",
    "\"\"\"\n",
    "\n",
    "comment_set = {'公司名称':[],'薪资':[],'经验要求':[],'学历要求':[]}\n",
    "\n",
    "#xpath中取文本  /text() 取直系的文本内容   //text()取其下所有文本内容。\n",
    "#取属性用  /@属性\n",
    "#索引语句中的下标是从1开始的\n",
    "\n",
    "re_now = re.compile(r'(\\d{1,2})-(\\d{1,2})K')\n",
    "re_now2 = re.compile(r'·(\\d{1,2})薪')\n",
    "\n",
    "\n",
    "for i in range(1,5):\n",
    "    page_now = str(i)\n",
    "    params['page'] = page_now  #变化变量1\n",
    "    params['ka'] = 'page-'+page_now #变化变量2\n",
    "    response = requests.get(url=url+page_now,params=params,headers=headers)\n",
    "    response.encoding = 'utf-8'\n",
    "    xpath_go = etree.HTML(response.text)  #etree.parse()\n",
    "    data_set = xpath_go.xpath('//div[@class=\"job-list\"]//li') #取对象根\n",
    "\n",
    "    #print('第'+str(i+1)+'页评论情况： ')输出情况\n",
    "    for j in data_set:\n",
    "        money1 = j.xpath('.//span[@class=\"red\"]/text()')[0]  #薪资\n",
    "        exp_limit = j.xpath('.//div[@class=\"job-limit clearfix\"]/p/text()[1]')[0]\n",
    "        xueli = j.xpath('.//div[@class=\"job-limit clearfix\"]/p/text()[2]')[0]\n",
    "        company_n = j.xpath('.//div[@class=\"company-text\"]//a/text()[1]')[0]\n",
    "        #short_content1 = j.xpath(\".//div[@class='short-content']/text()\")[0].strip() 获取短评\n",
    "        comment_set['公司名称'].append(company_n)\n",
    "        result = re_now.findall(money1)\n",
    "        result2 = re_now2.findall(money1)\n",
    "        if(len(result2)>0):\n",
    "            result2 = result2[0]\n",
    "        else:\n",
    "            result2 = ''\n",
    "        comment_set['薪资'].append(result[0][0]+' '+result[0][1]+' '+result2)\n",
    "        comment_set['经验要求'].append(exp_limit)\n",
    "        comment_set['学历要求'].append(xueli)\n",
    "\n",
    "        #print(comment_set[-1])  输出情况\n",
    "\n",
    "datafile = pd.DataFrame(comment_set)\n",
    "timenow = time.strftime('%Y-%m-%d',time.localtime(time.time()))\n",
    "\n",
    "#路径+文件名+时间的存储方式（后续可自定义）\n",
    "datafile.to_csv(save_path + save_folder[0] +'/'+ save_name + \"_\"+timenow+\".csv\",index=False,encoding='utf-8_sig') \n",
    "datafile.to_excel(save_path + save_folder[0] +'/'+ save_name + \"_\" + timenow + \".xlsx\", index=False, encoding='utf-8_sig')\n",
    "\n",
    "print(end_said)"
   ]
  },
  {
   "cell_type": "code",
   "execution_count": null,
   "metadata": {},
   "outputs": [],
   "source": []
  }
 ],
 "metadata": {
  "kernelspec": {
   "display_name": "Python 3",
   "language": "python",
   "name": "python3"
  },
  "language_info": {
   "codemirror_mode": {
    "name": "ipython",
    "version": 3
   },
   "file_extension": ".py",
   "mimetype": "text/x-python",
   "name": "python",
   "nbconvert_exporter": "python",
   "pygments_lexer": "ipython3",
   "version": "3.6.6"
  }
 },
 "nbformat": 4,
 "nbformat_minor": 4
}
